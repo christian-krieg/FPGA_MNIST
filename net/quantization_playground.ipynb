{
 "cells": [
  {
   "cell_type": "code",
   "execution_count": null,
   "outputs": [],
   "source": [
    "import numpy as np\n",
    "\n"
   ],
   "metadata": {
    "collapsed": false,
    "pycharm": {
     "name": "#%%\n"
    }
   }
  },
  {
   "cell_type": "code",
   "execution_count": null,
   "outputs": [],
   "source": [
    "# Input activation bits and fractions\n",
    "ia_b = np.array([8, 8, 8, 8])\n",
    "ia_f = np.array([6, 5, 5, 5])\n",
    "\n",
    "# Weights bits and fractions\n",
    "w_b = np.array([4, 4, 4, 4])\n",
    "w_f = np.array([4, 4, 4, 4])\n",
    "\n",
    "# Output activation bits and fractions\n",
    "oa_b = np.array([8, 8, 8, 8])\n",
    "oa_f = np.array([5, 5, 5, 5])\n"
   ],
   "metadata": {
    "collapsed": false,
    "pycharm": {
     "name": "#%% \n"
    }
   }
  }
 ],
 "metadata": {
  "kernelspec": {
   "display_name": "Python 3",
   "language": "python",
   "name": "python3"
  },
  "language_info": {
   "codemirror_mode": {
    "name": "ipython",
    "version": 2
   },
   "file_extension": ".py",
   "mimetype": "text/x-python",
   "name": "python",
   "nbconvert_exporter": "python",
   "pygments_lexer": "ipython2",
   "version": "2.7.6"
  },
  "pycharm": {
   "stem_cell": {
    "cell_type": "raw",
    "source": [],
    "metadata": {
     "collapsed": false
    }
   }
  }
 },
 "nbformat": 4,
 "nbformat_minor": 0
}